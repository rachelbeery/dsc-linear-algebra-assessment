{
 "cells": [
  {
   "cell_type": "markdown",
   "metadata": {},
   "source": [
    "# Assessments\n",
    "YW\n",
    "* write a function to find the mean of a list of numbers\n",
    "* write a function that calculates a dot product\n",
    "* write a function that centers an array on the mean \n",
    "* write a function to calculate the standard deviation of a list of a numbers (preferably using a dot product)\n",
    "* write a function to calculate the correlation and covariance of two lists\n",
    "* write a function to calculate the cost between ytrue and ypred"
   ]
  },
  {
   "cell_type": "code",
   "execution_count": 1,
   "metadata": {},
   "outputs": [],
   "source": [
    "import numpy as np\n",
    "from sklearn.metrics import mean_squared_error"
   ]
  },
  {
   "cell_type": "code",
   "execution_count": 6,
   "metadata": {},
   "outputs": [],
   "source": [
    "def mean_center(lst1):\n",
    "    \"\"\"\n",
    "    write a function that takes in a list\n",
    "    and returns that list but centered on the mean\n",
    "    \n",
    "    in other words x -> (x - mu)\n",
    "    \"\"\"\n",
    "    return lst1 - np.mean(lst1)\n",
    "\n",
    "\n",
    "def dot_product(lst1, lst2):\n",
    "    \"\"\"\n",
    "    write a function that takes in a list \n",
    "    of numbers and returns their dot product\n",
    "    \"\"\"\n",
    "    if len(lst1)!=len(lst2):\n",
    "        raise Exception(\"Vector lengths are not equal!\")\n",
    "        return None\n",
    "    s = 0\n",
    "    for i in range(len(lst1)):\n",
    "        p = lst1[i]*lst2[i]\n",
    "        s+=p\n",
    "    return s        "
   ]
  },
  {
   "cell_type": "code",
   "execution_count": 19,
   "metadata": {},
   "outputs": [
    {
     "name": "stdout",
     "output_type": "stream",
     "text": [
      "[-2. -1.  0.  1.  2.]\n",
      "130\n"
     ]
    },
    {
     "data": {
      "text/plain": [
       "130"
      ]
     },
     "execution_count": 19,
     "metadata": {},
     "output_type": "execute_result"
    }
   ],
   "source": [
    "# Checking to make sure the function works\n",
    "lst1 = [1,2,3,4,5]\n",
    "print(mean_center(lst1))\n",
    "# Checking the dot product function\n",
    "lst2 = [6,7,8,9,10]\n",
    "print(dot_product(lst1, lst2))\n",
    "np.dot(lst1, lst2)"
   ]
  },
  {
   "cell_type": "markdown",
   "metadata": {},
   "source": [
    "# Standard Deviation Formula\n",
    "![](images/standard-deviation.png)"
   ]
  },
  {
   "cell_type": "code",
   "execution_count": 8,
   "metadata": {},
   "outputs": [],
   "source": [
    "def standard_deviation(lst1):\n",
    "    \"\"\"\n",
    "    write a function that takes in a list\n",
    "    of numbers and returns its standard deviation\n",
    "    \"\"\"\n",
    "    mean_center_lst1 = mean_center(lst1)\n",
    "    numerator = dot_product(mean_center_lst1, mean_center_lst1)\n",
    "    denominator = len(lst1)\n",
    "    return np.sqrt(numerator / denominator)"
   ]
  },
  {
   "cell_type": "code",
   "execution_count": 20,
   "metadata": {},
   "outputs": [
    {
     "name": "stdout",
     "output_type": "stream",
     "text": [
      "1.4142135623730951\n"
     ]
    },
    {
     "data": {
      "text/plain": [
       "1.4142135623730951"
      ]
     },
     "execution_count": 20,
     "metadata": {},
     "output_type": "execute_result"
    }
   ],
   "source": [
    "# Checking the standard_deviation function\n",
    "print(standard_deviation(lst1))\n",
    "# Checking with numpy\n",
    "np.std(lst1)"
   ]
  },
  {
   "cell_type": "markdown",
   "metadata": {},
   "source": [
    "# Covariance Formula\n",
    "![](images/covariance.png)"
   ]
  },
  {
   "cell_type": "code",
   "execution_count": 10,
   "metadata": {},
   "outputs": [],
   "source": [
    "def covariance(lst1, lst2):\n",
    "    \"\"\"\n",
    "    write an function that takes in two lists\n",
    "    of numbers and returns their covariance\n",
    "    \"\"\"\n",
    "    lst1_mean = mean_center(lst1) \n",
    "    lst2_mean = mean_center(lst2) \n",
    "    numerator = dot_product(lst1_mean, lst2_mean)\n",
    "    denominator = len(lst1)\n",
    "    return numerator / denominator"
   ]
  },
  {
   "cell_type": "code",
   "execution_count": 21,
   "metadata": {},
   "outputs": [
    {
     "name": "stdout",
     "output_type": "stream",
     "text": [
      "2.0\n"
     ]
    },
    {
     "data": {
      "text/plain": [
       "array([[2.5, 2.5],\n",
       "       [2.5, 2.5]])"
      ]
     },
     "execution_count": 21,
     "metadata": {},
     "output_type": "execute_result"
    }
   ],
   "source": [
    "# Checking the covariance function\n",
    "print(covariance(lst1, lst2))\n",
    "# Checking with numpy\n",
    "np.cov(lst1, lst2)"
   ]
  },
  {
   "cell_type": "markdown",
   "metadata": {},
   "source": [
    "# Correlation Formula\n",
    "![](images/correlation.png)"
   ]
  },
  {
   "cell_type": "code",
   "execution_count": 12,
   "metadata": {},
   "outputs": [],
   "source": [
    "def correlation(lst1, lst2):\n",
    "    \"\"\"\n",
    "    write an function that takes in two lists \n",
    "    of numbers and returns their correlation\n",
    "    \"\"\"\n",
    "    lst1_mean = mean_center(lst1)\n",
    "    lst2_mean = mean_center(lst2)\n",
    "    numerator = dot_product(lst1_mean, lst2_mean)\n",
    "    denominator = np.sqrt(dot_product(lst1_mean, lst1_mean) * dot_product(lst2_mean, lst2_mean))\n",
    "    return numerator / denominator"
   ]
  },
  {
   "cell_type": "code",
   "execution_count": 22,
   "metadata": {},
   "outputs": [
    {
     "name": "stdout",
     "output_type": "stream",
     "text": [
      "1.0\n"
     ]
    },
    {
     "data": {
      "text/plain": [
       "array([[1., 1.],\n",
       "       [1., 1.]])"
      ]
     },
     "execution_count": 22,
     "metadata": {},
     "output_type": "execute_result"
    }
   ],
   "source": [
    "# Checking the correlation function\n",
    "print(correlation(lst1, lst2))\n",
    "# Checking with numpy function to make sure it worked\n",
    "np.corrcoef(lst1, lst2)"
   ]
  },
  {
   "cell_type": "markdown",
   "metadata": {},
   "source": [
    "# RMSE Formula\n",
    "![](images/rmse.png)"
   ]
  },
  {
   "cell_type": "code",
   "execution_count": 14,
   "metadata": {},
   "outputs": [],
   "source": [
    "def rmse(ytrue, ypred):\n",
    "    \"\"\"\n",
    "    write a function that takes in ytrue and ypred\n",
    "    and returns their root mean squared error\n",
    "    \"\"\"\n",
    "    centered = ypred - ytrue\n",
    "    numerator = dot_product(centered, centered)\n",
    "    denominator = len(ytrue)\n",
    "    return np.sqrt(numerator / denominator)"
   ]
  },
  {
   "cell_type": "code",
   "execution_count": 16,
   "metadata": {},
   "outputs": [
    {
     "ename": "TypeError",
     "evalue": "unsupported operand type(s) for -: 'list' and 'list'",
     "output_type": "error",
     "traceback": [
      "\u001b[1;31m---------------------------------------------------------------------------\u001b[0m",
      "\u001b[1;31mTypeError\u001b[0m                                 Traceback (most recent call last)",
      "\u001b[1;32m<ipython-input-16-26a951d49221>\u001b[0m in \u001b[0;36m<module>\u001b[1;34m\u001b[0m\n\u001b[0;32m      1\u001b[0m \u001b[1;31m# Checking to make sure the RMSE function works\u001b[0m\u001b[1;33m\u001b[0m\u001b[1;33m\u001b[0m\u001b[1;33m\u001b[0m\u001b[0m\n\u001b[1;32m----> 2\u001b[1;33m \u001b[0mprint\u001b[0m\u001b[1;33m(\u001b[0m\u001b[0mrmse\u001b[0m\u001b[1;33m(\u001b[0m\u001b[0mlst1\u001b[0m\u001b[1;33m,\u001b[0m \u001b[0mlst2\u001b[0m\u001b[1;33m)\u001b[0m\u001b[1;33m)\u001b[0m\u001b[1;33m\u001b[0m\u001b[1;33m\u001b[0m\u001b[0m\n\u001b[0m\u001b[0;32m      3\u001b[0m \u001b[1;31m# Checking with the numpy RMSE function as well\u001b[0m\u001b[1;33m\u001b[0m\u001b[1;33m\u001b[0m\u001b[1;33m\u001b[0m\u001b[0m\n\u001b[0;32m      4\u001b[0m \u001b[0mnp\u001b[0m\u001b[1;33m.\u001b[0m\u001b[0msqrt\u001b[0m\u001b[1;33m(\u001b[0m\u001b[0mmean_squared_error\u001b[0m\u001b[1;33m(\u001b[0m\u001b[0mlst1\u001b[0m\u001b[1;33m,\u001b[0m \u001b[0mlst2\u001b[0m\u001b[1;33m)\u001b[0m\u001b[1;33m)\u001b[0m\u001b[1;33m\u001b[0m\u001b[1;33m\u001b[0m\u001b[0m\n",
      "\u001b[1;32m<ipython-input-14-099a6dbdbb93>\u001b[0m in \u001b[0;36mrmse\u001b[1;34m(ytrue, ypred)\u001b[0m\n\u001b[0;32m      4\u001b[0m     \u001b[1;32mand\u001b[0m \u001b[0mreturns\u001b[0m \u001b[0mtheir\u001b[0m \u001b[0mroot\u001b[0m \u001b[0mmean\u001b[0m \u001b[0msquared\u001b[0m \u001b[0merror\u001b[0m\u001b[1;33m\u001b[0m\u001b[1;33m\u001b[0m\u001b[0m\n\u001b[0;32m      5\u001b[0m     \"\"\"\n\u001b[1;32m----> 6\u001b[1;33m     \u001b[0mcentered\u001b[0m \u001b[1;33m=\u001b[0m \u001b[0mypred\u001b[0m \u001b[1;33m-\u001b[0m \u001b[0mytrue\u001b[0m\u001b[1;33m\u001b[0m\u001b[1;33m\u001b[0m\u001b[0m\n\u001b[0m\u001b[0;32m      7\u001b[0m     \u001b[0mnumerator\u001b[0m \u001b[1;33m=\u001b[0m \u001b[0mdot_product\u001b[0m\u001b[1;33m(\u001b[0m\u001b[0mcentered\u001b[0m\u001b[1;33m,\u001b[0m \u001b[0mcentered\u001b[0m\u001b[1;33m)\u001b[0m\u001b[1;33m\u001b[0m\u001b[1;33m\u001b[0m\u001b[0m\n\u001b[0;32m      8\u001b[0m     \u001b[0mdenominator\u001b[0m \u001b[1;33m=\u001b[0m \u001b[0mlen\u001b[0m\u001b[1;33m(\u001b[0m\u001b[0mytrue\u001b[0m\u001b[1;33m)\u001b[0m\u001b[1;33m\u001b[0m\u001b[1;33m\u001b[0m\u001b[0m\n",
      "\u001b[1;31mTypeError\u001b[0m: unsupported operand type(s) for -: 'list' and 'list'"
     ]
    }
   ],
   "source": [
    "# Checking to make sure the RMSE function works\n",
    "print(rmse(lst1, lst2))\n",
    "# Checking with the numpy RMSE function as well\n",
    "np.sqrt(mean_squared_error(lst1, lst2))"
   ]
  },
  {
   "cell_type": "markdown",
   "metadata": {},
   "source": [
    "# RSS Formula \n",
    "![](images/rss.png)"
   ]
  },
  {
   "cell_type": "code",
   "execution_count": 17,
   "metadata": {},
   "outputs": [],
   "source": [
    "def rss(ytrue, ypred):\n",
    "    \"\"\"\n",
    "    write a function that takes in ytrue and ypred\n",
    "    and returns their rss\n",
    "    \"\"\"\n",
    "    centered = ytrue - ypred\n",
    "    return dot_product(centered, centered)"
   ]
  },
  {
   "cell_type": "code",
   "execution_count": 18,
   "metadata": {},
   "outputs": [
    {
     "ename": "TypeError",
     "evalue": "unsupported operand type(s) for -: 'list' and 'list'",
     "output_type": "error",
     "traceback": [
      "\u001b[1;31m---------------------------------------------------------------------------\u001b[0m",
      "\u001b[1;31mTypeError\u001b[0m                                 Traceback (most recent call last)",
      "\u001b[1;32m<ipython-input-18-a7d8fc645c3a>\u001b[0m in \u001b[0;36m<module>\u001b[1;34m\u001b[0m\n\u001b[0;32m      1\u001b[0m \u001b[1;31m# Checking the RSS function above\u001b[0m\u001b[1;33m\u001b[0m\u001b[1;33m\u001b[0m\u001b[1;33m\u001b[0m\u001b[0m\n\u001b[1;32m----> 2\u001b[1;33m \u001b[0mrss\u001b[0m\u001b[1;33m(\u001b[0m\u001b[0mlst1\u001b[0m\u001b[1;33m,\u001b[0m \u001b[0mlst2\u001b[0m\u001b[1;33m)\u001b[0m\u001b[1;33m\u001b[0m\u001b[1;33m\u001b[0m\u001b[0m\n\u001b[0m\u001b[0;32m      3\u001b[0m \u001b[1;31m# Checking against the mean_squared_error function\u001b[0m\u001b[1;33m\u001b[0m\u001b[1;33m\u001b[0m\u001b[1;33m\u001b[0m\u001b[0m\n\u001b[0;32m      4\u001b[0m \u001b[0mmean_squared_error\u001b[0m\u001b[1;33m(\u001b[0m\u001b[0mlst1\u001b[0m\u001b[1;33m,\u001b[0m \u001b[0mlst2\u001b[0m\u001b[1;33m)\u001b[0m \u001b[1;33m*\u001b[0m \u001b[0mlen\u001b[0m\u001b[1;33m(\u001b[0m\u001b[0mlst1\u001b[0m\u001b[1;33m)\u001b[0m\u001b[1;33m\u001b[0m\u001b[1;33m\u001b[0m\u001b[0m\n",
      "\u001b[1;32m<ipython-input-17-0e9a641c9d2f>\u001b[0m in \u001b[0;36mrss\u001b[1;34m(ytrue, ypred)\u001b[0m\n\u001b[0;32m      4\u001b[0m     \u001b[1;32mand\u001b[0m \u001b[0mreturns\u001b[0m \u001b[0mtheir\u001b[0m \u001b[0mrss\u001b[0m\u001b[1;33m\u001b[0m\u001b[1;33m\u001b[0m\u001b[0m\n\u001b[0;32m      5\u001b[0m     \"\"\"\n\u001b[1;32m----> 6\u001b[1;33m     \u001b[0mcentered\u001b[0m \u001b[1;33m=\u001b[0m \u001b[0mytrue\u001b[0m \u001b[1;33m-\u001b[0m \u001b[0mypred\u001b[0m\u001b[1;33m\u001b[0m\u001b[1;33m\u001b[0m\u001b[0m\n\u001b[0m\u001b[0;32m      7\u001b[0m     \u001b[1;32mreturn\u001b[0m \u001b[0mdot_product\u001b[0m\u001b[1;33m(\u001b[0m\u001b[0mcentered\u001b[0m\u001b[1;33m,\u001b[0m \u001b[0mcentered\u001b[0m\u001b[1;33m)\u001b[0m\u001b[1;33m\u001b[0m\u001b[1;33m\u001b[0m\u001b[0m\n",
      "\u001b[1;31mTypeError\u001b[0m: unsupported operand type(s) for -: 'list' and 'list'"
     ]
    }
   ],
   "source": [
    "# Checking the RSS function above\n",
    "print(rss(lst1, lst2))\n",
    "# Checking against the mean_squared_error function\n",
    "mean_squared_error(lst1, lst2) * len(lst1)"
   ]
  },
  {
   "cell_type": "code",
   "execution_count": null,
   "metadata": {},
   "outputs": [],
   "source": []
  }
 ],
 "metadata": {
  "kernelspec": {
   "display_name": "Python [conda env:learn-env] *",
   "language": "python",
   "name": "conda-env-learn-env-py"
  },
  "language_info": {
   "codemirror_mode": {
    "name": "ipython",
    "version": 3
   },
   "file_extension": ".py",
   "mimetype": "text/x-python",
   "name": "python",
   "nbconvert_exporter": "python",
   "pygments_lexer": "ipython3",
   "version": "3.6.9"
  },
  "toc": {
   "base_numbering": 1,
   "nav_menu": {},
   "number_sections": true,
   "sideBar": true,
   "skip_h1_title": false,
   "title_cell": "Table of Contents",
   "title_sidebar": "Contents",
   "toc_cell": false,
   "toc_position": {},
   "toc_section_display": true,
   "toc_window_display": false
  }
 },
 "nbformat": 4,
 "nbformat_minor": 4
}
